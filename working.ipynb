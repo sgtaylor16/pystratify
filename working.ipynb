{
 "cells": [
  {
   "cell_type": "code",
   "execution_count": 9,
   "metadata": {},
   "outputs": [],
   "source": [
    "import json\n",
    "import numpy as np\n",
    "import random\n",
    "import tools as st"
   ]
  },
  {
   "cell_type": "code",
   "execution_count": 6,
   "metadata": {},
   "outputs": [],
   "source": [
    "flavors = ['bitter','sweet','buttery']\n",
    "colors = ['red','green','blue','yellow']\n",
    "shape = ['square','circle','triangle','line']\n",
    "\n",
    "shots = np.arange(1,20,1)\n",
    "\n",
    "random.seed(100)\n",
    "shotlist = []\n",
    "for shot in shots:\n",
    "    tempdir = {}\n",
    "    tempdir['shot'] = str(shot)\n",
    "    tempdir['flavor'] = random.choice(flavors)\n",
    "    tempdir['color'] = random.choice(colors)\n",
    "    tempdir['shape'] = random.choice(shape)\n",
    "    shotlist.append(tempdir)"
   ]
  },
  {
   "cell_type": "code",
   "execution_count": 7,
   "metadata": {},
   "outputs": [
    {
     "data": {
      "text/plain": [
       "[{'name': 'bitter',\n",
       "  'children': [{'shot': '1', 'color': 'yellow', 'shape': 'line'},\n",
       "   {'shot': '2', 'color': 'yellow', 'shape': 'triangle'},\n",
       "   {'shot': '4', 'color': 'yellow', 'shape': 'triangle'},\n",
       "   {'shot': '5', 'color': 'green', 'shape': 'triangle'},\n",
       "   {'shot': '6', 'color': 'blue', 'shape': 'circle'},\n",
       "   {'shot': '7', 'color': 'green', 'shape': 'circle'},\n",
       "   {'shot': '9', 'color': 'yellow', 'shape': 'line'},\n",
       "   {'shot': '11', 'color': 'red', 'shape': 'circle'},\n",
       "   {'shot': '12', 'color': 'yellow', 'shape': 'circle'},\n",
       "   {'shot': '14', 'color': 'red', 'shape': 'circle'}]},\n",
       " {'name': 'buttery',\n",
       "  'children': [{'shot': '10', 'color': 'blue', 'shape': 'line'},\n",
       "   {'shot': '13', 'color': 'green', 'shape': 'circle'},\n",
       "   {'shot': '16', 'color': 'red', 'shape': 'circle'},\n",
       "   {'shot': '17', 'color': 'blue', 'shape': 'triangle'},\n",
       "   {'shot': '18', 'color': 'blue', 'shape': 'triangle'}]},\n",
       " {'name': 'sweet',\n",
       "  'children': [{'shot': '3', 'color': 'red', 'shape': 'square'},\n",
       "   {'shot': '8', 'color': 'blue', 'shape': 'line'},\n",
       "   {'shot': '15', 'color': 'yellow', 'shape': 'circle'},\n",
       "   {'shot': '19', 'color': 'yellow', 'shape': 'square'}]}]"
      ]
     },
     "execution_count": 7,
     "metadata": {},
     "output_type": "execute_result"
    }
   ],
   "source": [
    "st.findLowest(shotlist,'flavor')"
   ]
  },
  {
   "cell_type": "code",
   "execution_count": 12,
   "metadata": {},
   "outputs": [
    {
     "data": {
      "text/plain": [
       "{'name': 'flavor',\n",
       " 'children': [{'name': 'bitter',\n",
       "   'children': [{'name': 'blue',\n",
       "     'children': [{'name': 'circle', 'children': [{'shot': '6'}]}]},\n",
       "    {'name': 'green',\n",
       "     'children': [{'name': 'circle', 'children': [{'shot': '7'}]},\n",
       "      {'name': 'triangle', 'children': [{'shot': '5'}]}]},\n",
       "    {'name': 'red',\n",
       "     'children': [{'name': 'circle',\n",
       "       'children': [{'shot': '11'}, {'shot': '14'}]}]},\n",
       "    {'name': 'yellow',\n",
       "     'children': [{'name': 'circle', 'children': [{'shot': '12'}]},\n",
       "      {'name': 'line', 'children': [{'shot': '1'}, {'shot': '9'}]},\n",
       "      {'name': 'triangle', 'children': [{'shot': '2'}, {'shot': '4'}]}]}]},\n",
       "  {'name': 'buttery',\n",
       "   'children': [{'name': 'blue',\n",
       "     'children': [{'name': 'line', 'children': [{'shot': '10'}]},\n",
       "      {'name': 'triangle', 'children': [{'shot': '17'}, {'shot': '18'}]}]},\n",
       "    {'name': 'green',\n",
       "     'children': [{'name': 'circle', 'children': [{'shot': '13'}]}]},\n",
       "    {'name': 'red',\n",
       "     'children': [{'name': 'circle', 'children': [{'shot': '16'}]}]}]},\n",
       "  {'name': 'sweet',\n",
       "   'children': [{'name': 'blue',\n",
       "     'children': [{'name': 'line', 'children': [{'shot': '8'}]}]},\n",
       "    {'name': 'red',\n",
       "     'children': [{'name': 'square', 'children': [{'shot': '3'}]}]},\n",
       "    {'name': 'yellow',\n",
       "     'children': [{'name': 'circle', 'children': [{'shot': '15'}]},\n",
       "      {'name': 'square', 'children': [{'shot': '19'}]}]}]}]}"
      ]
     },
     "execution_count": 12,
     "metadata": {},
     "output_type": "execute_result"
    }
   ],
   "source": [
    "third_level = st.stratify(shotlist,['flavor','color','shape'])\n",
    "third_level"
   ]
  },
  {
   "cell_type": "code",
   "execution_count": 11,
   "metadata": {},
   "outputs": [],
   "source": [
    "import json\n",
    "with open('result.json', 'w') as fp:\n",
    "    json.dump(third_level, fp)"
   ]
  },
  {
   "attachments": {},
   "cell_type": "markdown",
   "metadata": {},
   "source": [
    "[Observable Link](https://observablehq.com/d/36bb67681d0e429d)"
   ]
  },
  {
   "attachments": {},
   "cell_type": "markdown",
   "metadata": {},
   "source": [
    "|"
   ]
  }
 ],
 "metadata": {
  "kernelspec": {
   "display_name": "base",
   "language": "python",
   "name": "python3"
  },
  "language_info": {
   "codemirror_mode": {
    "name": "ipython",
    "version": 3
   },
   "file_extension": ".py",
   "mimetype": "text/x-python",
   "name": "python",
   "nbconvert_exporter": "python",
   "pygments_lexer": "ipython3",
   "version": "3.9.15"
  },
  "orig_nbformat": 4,
  "vscode": {
   "interpreter": {
    "hash": "38cca0c38332a56087b24af0bc80247f4fced29cb4f7f437d91dc159adec9c4e"
   }
  }
 },
 "nbformat": 4,
 "nbformat_minor": 2
}
